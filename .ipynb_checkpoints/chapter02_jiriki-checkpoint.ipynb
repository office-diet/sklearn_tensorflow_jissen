{
 "cells": [
  {
   "cell_type": "code",
   "execution_count": 1,
   "metadata": {},
   "outputs": [],
   "source": [
    "import os\n",
    "import urllib\n",
    "import tarfile\n",
    "\n",
    "download_root = \"https://raw.githubusercontent.com/ageron/handson-ml/master/\"\n",
    "housing_path = \"datasets/housing\"\n",
    "housing_url = download_root + \"datasets/housing/housing.tgz\"\n",
    "\n",
    "def fetch_housing_data(housing_url=housing_url, housing_path=housing_path):\n",
    "    if not os.path.exists(housing_path):\n",
    "        os.makedirs(housing_path)\n",
    "    tgz_path = housing_path + \"/housing.tgz\"\n",
    "    urllib.request.urlretrieve(housing_url, tgz_path)\n",
    "    housing_tgz = tarfile.open(tgz_path)\n",
    "    housing_tgz.extractall(path=housing_path)\n",
    "    housing_tgz.close()\n",
    "\n",
    "import pandas as pd\n",
    "\n",
    "def load_housing_data(housing_path=housing_path):\n",
    "    csv_path = (housing_path + \"/housing.csv\")\n",
    "    return pd.read_csv(csv_path)\n",
    "\n",
    "fetch_housing_data()\n",
    "housing = load_housing_data()"
   ]
  },
  {
   "cell_type": "code",
   "execution_count": 2,
   "metadata": {},
   "outputs": [
    {
     "data": {
      "text/html": [
       "<div>\n",
       "<style scoped>\n",
       "    .dataframe tbody tr th:only-of-type {\n",
       "        vertical-align: middle;\n",
       "    }\n",
       "\n",
       "    .dataframe tbody tr th {\n",
       "        vertical-align: top;\n",
       "    }\n",
       "\n",
       "    .dataframe thead th {\n",
       "        text-align: right;\n",
       "    }\n",
       "</style>\n",
       "<table border=\"1\" class=\"dataframe\">\n",
       "  <thead>\n",
       "    <tr style=\"text-align: right;\">\n",
       "      <th></th>\n",
       "      <th>longitude</th>\n",
       "      <th>latitude</th>\n",
       "      <th>housing_median_age</th>\n",
       "      <th>total_rooms</th>\n",
       "      <th>total_bedrooms</th>\n",
       "      <th>population</th>\n",
       "      <th>households</th>\n",
       "      <th>median_income</th>\n",
       "      <th>median_house_value</th>\n",
       "      <th>ocean_proximity</th>\n",
       "    </tr>\n",
       "  </thead>\n",
       "  <tbody>\n",
       "    <tr>\n",
       "      <th>0</th>\n",
       "      <td>-122.23</td>\n",
       "      <td>37.88</td>\n",
       "      <td>41.0</td>\n",
       "      <td>880.0</td>\n",
       "      <td>129.0</td>\n",
       "      <td>322.0</td>\n",
       "      <td>126.0</td>\n",
       "      <td>8.3252</td>\n",
       "      <td>452600.0</td>\n",
       "      <td>NEAR BAY</td>\n",
       "    </tr>\n",
       "    <tr>\n",
       "      <th>1</th>\n",
       "      <td>-122.22</td>\n",
       "      <td>37.86</td>\n",
       "      <td>21.0</td>\n",
       "      <td>7099.0</td>\n",
       "      <td>1106.0</td>\n",
       "      <td>2401.0</td>\n",
       "      <td>1138.0</td>\n",
       "      <td>8.3014</td>\n",
       "      <td>358500.0</td>\n",
       "      <td>NEAR BAY</td>\n",
       "    </tr>\n",
       "    <tr>\n",
       "      <th>2</th>\n",
       "      <td>-122.24</td>\n",
       "      <td>37.85</td>\n",
       "      <td>52.0</td>\n",
       "      <td>1467.0</td>\n",
       "      <td>190.0</td>\n",
       "      <td>496.0</td>\n",
       "      <td>177.0</td>\n",
       "      <td>7.2574</td>\n",
       "      <td>352100.0</td>\n",
       "      <td>NEAR BAY</td>\n",
       "    </tr>\n",
       "    <tr>\n",
       "      <th>3</th>\n",
       "      <td>-122.25</td>\n",
       "      <td>37.85</td>\n",
       "      <td>52.0</td>\n",
       "      <td>1274.0</td>\n",
       "      <td>235.0</td>\n",
       "      <td>558.0</td>\n",
       "      <td>219.0</td>\n",
       "      <td>5.6431</td>\n",
       "      <td>341300.0</td>\n",
       "      <td>NEAR BAY</td>\n",
       "    </tr>\n",
       "    <tr>\n",
       "      <th>4</th>\n",
       "      <td>-122.25</td>\n",
       "      <td>37.85</td>\n",
       "      <td>52.0</td>\n",
       "      <td>1627.0</td>\n",
       "      <td>280.0</td>\n",
       "      <td>565.0</td>\n",
       "      <td>259.0</td>\n",
       "      <td>3.8462</td>\n",
       "      <td>342200.0</td>\n",
       "      <td>NEAR BAY</td>\n",
       "    </tr>\n",
       "  </tbody>\n",
       "</table>\n",
       "</div>"
      ],
      "text/plain": [
       "   longitude  latitude  housing_median_age  total_rooms  total_bedrooms  \\\n",
       "0    -122.23     37.88                41.0        880.0           129.0   \n",
       "1    -122.22     37.86                21.0       7099.0          1106.0   \n",
       "2    -122.24     37.85                52.0       1467.0           190.0   \n",
       "3    -122.25     37.85                52.0       1274.0           235.0   \n",
       "4    -122.25     37.85                52.0       1627.0           280.0   \n",
       "\n",
       "   population  households  median_income  median_house_value ocean_proximity  \n",
       "0       322.0       126.0         8.3252            452600.0        NEAR BAY  \n",
       "1      2401.0      1138.0         8.3014            358500.0        NEAR BAY  \n",
       "2       496.0       177.0         7.2574            352100.0        NEAR BAY  \n",
       "3       558.0       219.0         5.6431            341300.0        NEAR BAY  \n",
       "4       565.0       259.0         3.8462            342200.0        NEAR BAY  "
      ]
     },
     "execution_count": 2,
     "metadata": {},
     "output_type": "execute_result"
    }
   ],
   "source": [
    "housing.head()"
   ]
  },
  {
   "cell_type": "code",
   "execution_count": 3,
   "metadata": {},
   "outputs": [],
   "source": [
    "from sklearn.impute import SimpleImputer\n",
    "from sklearn.preprocessing import StandardScaler\n",
    "import numpy as np\n",
    "\n",
    "def add_features(housing):\n",
    "    housing[\"rooms_per_household\"] = housing[\"total_rooms\"] / housing[\"households\"]\n",
    "    housing[\"bedrooms_per_household\"] = housing[\"total_bedrooms\"] / housing[\"households\"]\n",
    "    housing[\"population_per_household\"] = housing[\"population\"] / housing[\"households\"]\n",
    "    housing[\"rooms_per_population\"] = housing[\"total_rooms\"] / housing[\"population\"]\n",
    "    housing[\"bedrooms_per_population\"] = housing[\"total_bedrooms\"] /  housing[\"population\"]\n",
    "    imputer = SimpleImputer(strategy=\"median\")\n",
    "    housing_values = imputer.fit_transform(housing)\n",
    "    scaler = StandardScaler()\n",
    "    housing_values = scaler.fit_transform(housing_values)\n",
    "    return housing_values, list(housing)\n",
    "\n",
    "from sklearn.preprocessing import OneHotEncoder\n",
    "\n",
    "labels = housing[\"median_house_value\"].copy()\n",
    "housing_x = housing.drop(\"median_house_value\", axis=1)\n",
    "\n",
    "encoder = OneHotEncoder()\n",
    "ocean = encoder.fit_transform(housing_x[\"ocean_proximity\"].values.reshape(-1, 1)).toarray()\n",
    "\n",
    "housing_add, housing_labels = add_features(housing_x.drop(\"ocean_proximity\", axis=1))\n",
    "housing_add = np.concatenate([housing_add, ocean], axis=1)\n",
    "housing_labels = housing_labels + list(encoder.categories_[0])\n",
    "housing_df = pd.DataFrame(housing_add, columns=housing_labels)\n",
    "housing_labels = list(housing_df)"
   ]
  },
  {
   "cell_type": "code",
   "execution_count": 4,
   "metadata": {},
   "outputs": [
    {
     "data": {
      "text/plain": [
       "0.6583335977694541"
      ]
     },
     "execution_count": 4,
     "metadata": {},
     "output_type": "execute_result"
    }
   ],
   "source": [
    "from sklearn.linear_model import LinearRegression\n",
    "from sklearn.model_selection import train_test_split\n",
    "\n",
    "x_train, x_test, y_train, y_test = train_test_split(housing_df.values, labels.values, random_state=42)\n",
    "\n",
    "lr = LinearRegression()\n",
    "lr.fit(x_train, y_train)\n",
    "lr.score(x_test, y_test)"
   ]
  },
  {
   "cell_type": "code",
   "execution_count": 5,
   "metadata": {},
   "outputs": [
    {
     "data": {
      "text/plain": [
       "[(112653.24509406579, 'ISLAND'),\n",
       " (75387.6384727927, 'median_income'),\n",
       " (28587.313789385087, 'bedrooms_per_population'),\n",
       " (27752.618945581547, 'total_bedrooms'),\n",
       " (13690.303298378862, 'housing_median_age'),\n",
       " (7956.829778418706, 'households'),\n",
       " (6676.458763430659, 'rooms_per_population'),\n",
       " (110.4286767786485, 'population_per_household'),\n",
       " (-8135.917235171384, 'rooms_per_household'),\n",
       " (-9840.690156764816, 'total_rooms'),\n",
       " (-16742.2432337044, '<1H OCEAN'),\n",
       " (-16818.122480701433, 'NEAR OCEAN'),\n",
       " (-17552.841833781833, 'bedrooms_per_household'),\n",
       " (-20349.31172493932, 'population'),\n",
       " (-25585.987698252546, 'NEAR BAY'),\n",
       " (-53506.89168140737, 'INLAND'),\n",
       " (-58120.87208603855, 'longitude'),\n",
       " (-59528.08372465711, 'latitude')]"
      ]
     },
     "execution_count": 5,
     "metadata": {},
     "output_type": "execute_result"
    }
   ],
   "source": [
    "sorted( zip(lr.coef_, housing_labels), reverse=True)"
   ]
  },
  {
   "cell_type": "code",
   "execution_count": 6,
   "metadata": {},
   "outputs": [
    {
     "data": {
      "text/plain": [
       "70960.50962611982"
      ]
     },
     "execution_count": 6,
     "metadata": {},
     "output_type": "execute_result"
    }
   ],
   "source": [
    "from sklearn.tree import DecisionTreeRegressor\n",
    "\n",
    "dtr = DecisionTreeRegressor() \n",
    "dtr.fit(x_train, y_train)\n",
    "y_pred = dtr.predict(x_test)\n",
    "\n",
    "from sklearn.metrics import mean_squared_error\n",
    "dtr_mse = mean_squared_error(y_pred, y_test)\n",
    "dtr_rmse = np.sqrt(dtr_mse)\n",
    "dtr_rmse"
   ]
  },
  {
   "cell_type": "code",
   "execution_count": 119,
   "metadata": {},
   "outputs": [
    {
     "data": {
      "text/plain": [
       "GridSearchCV(cv=5, estimator=RandomForestRegressor(),\n",
       "             param_grid=[{'max_features': [2, 4, 6, 8],\n",
       "                          'n_estimators': [3, 10, 30]}],\n",
       "             scoring='neg_mean_squared_error')"
      ]
     },
     "execution_count": 119,
     "metadata": {},
     "output_type": "execute_result"
    }
   ],
   "source": [
    "from sklearn.model_selection import GridSearchCV\n",
    "from sklearn.ensemble import RandomForestRegressor\n",
    "\n",
    "param_grid = [\n",
    "    {\"n_estimators\" : [3, 10, 30], \"max_features\": [2, 4, 6, 8]}\n",
    "]\n",
    "rfr = RandomForestRegressor()\n",
    "grid_search = GridSearchCV(rfr, param_grid, cv=5, scoring=\"neg_mean_squared_error\")\n",
    "grid_search.fit(x_train, y_train)"
   ]
  },
  {
   "cell_type": "code",
   "execution_count": 156,
   "metadata": {},
   "outputs": [
    {
     "data": {
      "text/plain": [
       "RandomForestRegressor(max_features=6, n_estimators=30)"
      ]
     },
     "execution_count": 156,
     "metadata": {},
     "output_type": "execute_result"
    }
   ],
   "source": [
    "grid_search.best_estimator_"
   ]
  },
  {
   "cell_type": "code",
   "execution_count": 155,
   "metadata": {},
   "outputs": [
    {
     "data": {
      "text/plain": [
       "[(0.328701377454053, 'median_income'),\n",
       " (0.15094264868804713, 'INLAND'),\n",
       " (0.10086877606696641, 'rooms_per_population'),\n",
       " (0.06928727329327233, 'latitude'),\n",
       " (0.0665494282545806, 'longitude'),\n",
       " (0.05563218248746427, 'population_per_household'),\n",
       " (0.05075177423326383, 'rooms_per_household'),\n",
       " (0.04438184434088377, 'bedrooms_per_population'),\n",
       " (0.03603390004977899, 'housing_median_age'),\n",
       " (0.018958285948472996, 'bedrooms_per_household'),\n",
       " (0.015436284619434207, '<1H OCEAN'),\n",
       " (0.014424621944959078, 'total_rooms'),\n",
       " (0.013994682185648616, 'total_bedrooms'),\n",
       " (0.013581846172000766, 'households'),\n",
       " (0.01343532155826218, 'population'),\n",
       " (0.0049092774474614465, 'NEAR OCEAN'),\n",
       " (0.0019788905829323275, 'NEAR BAY'),\n",
       " (0.0001315846725182168, 'ISLAND')]"
      ]
     },
     "execution_count": 155,
     "metadata": {},
     "output_type": "execute_result"
    }
   ],
   "source": [
    "feature_importances = grid_search.best_estimator_.feature_importances_\n",
    "sorted(zip(feature_importances, housing_labels), reverse=True)"
   ]
  },
  {
   "cell_type": "code",
   "execution_count": 157,
   "metadata": {},
   "outputs": [
    {
     "data": {
      "text/plain": [
       "50040.06321211937"
      ]
     },
     "execution_count": 157,
     "metadata": {},
     "output_type": "execute_result"
    }
   ],
   "source": [
    "best_model = grid_search.best_estimator_\n",
    "y_pred = best_model.predict(x_test)\n",
    "\n",
    "best_mse = mean_squared_error(y_pred, y_test)\n",
    "best_rmse = np.sqrt(best_mse)\n",
    "best_rmse"
   ]
  },
  {
   "cell_type": "code",
   "execution_count": null,
   "metadata": {},
   "outputs": [],
   "source": [
    "# from sklearn.svm import SVC\n",
    "# from sklearn.model_selection import GridSearchCV\n",
    "\n",
    "# svm = SVC()\n",
    "# param_grid = [\n",
    "#     {\"kernel\" : \"linear\", \"C\" : [0.01, 0.1, 1.0, 10.0, 100.0]},\n",
    "#     {\"kernel\" : \"rbf\", \"C\" : [0.01, 0.1, 1.0, 10.0, 100.0], \"gamma\" : [0.01, 0.1, 1.0, 10.0, 100.0]},\n",
    "# ]\n",
    "\n",
    "# grid_search = GridSearchCV(svm, param_grid, cv=5, scoring=\"neg_mean_squared_error\")\n",
    "# grid_search.fit(x_train, y_train)"
   ]
  },
  {
   "cell_type": "code",
   "execution_count": null,
   "metadata": {},
   "outputs": [],
   "source": []
  },
  {
   "cell_type": "code",
   "execution_count": null,
   "metadata": {},
   "outputs": [],
   "source": []
  }
 ],
 "metadata": {
  "kernelspec": {
   "display_name": "Python 3",
   "language": "python",
   "name": "python3"
  },
  "language_info": {
   "codemirror_mode": {
    "name": "ipython",
    "version": 3
   },
   "file_extension": ".py",
   "mimetype": "text/x-python",
   "name": "python",
   "nbconvert_exporter": "python",
   "pygments_lexer": "ipython3",
   "version": "3.8.5"
  }
 },
 "nbformat": 4,
 "nbformat_minor": 4
}
