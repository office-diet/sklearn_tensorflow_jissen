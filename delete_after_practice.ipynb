{
 "cells": [
  {
   "cell_type": "code",
   "execution_count": 7,
   "metadata": {},
   "outputs": [],
   "source": [
    "from PIL import Image\n",
    "import numpy as np\n",
    "\n",
    "larges = np.array([])\n",
    "smalls = np.array([])\n",
    "imgs = [\"000\", \"001\", \"002\", \"003\", \"004\", \"005\"]\n",
    "\n",
    "\n",
    "larges = [np.array(Image.open(\"img/\" + img + \"_l.jpg\")).T for img in imgs]\n",
    "smalls = [np.array(Image.open(\"img/\" + img + \"_s.jpg\")).T for img in imgs]\n",
    "\n",
    "tmp = []\n",
    "for i in range(6):\n",
    "    for j in range(3):\n",
    "        tmp.append(larges[i][j].reshape(2048 * 1536))\n",
    "larges = tmp\n",
    "\n",
    "tmp = []\n",
    "for i in range(6):\n",
    "    for j in range(3):\n",
    "        tmp.append(smalls[i][j].reshape(300 * 225))\n",
    "smalls = tmp        \n",
    "\n",
    "from sklearn.neighbors import KNeighborsClassifier\n",
    "knn_clf = KNeighborsClassifier()\n",
    "knn_clf.fit(smalls, larges)\n"
   ]
  },
  {
   "cell_type": "code",
   "execution_count": 15,
   "metadata": {},
   "outputs": [
    {
     "data": {
      "text/plain": [
       "(2, 67500)"
      ]
     },
     "execution_count": 15,
     "metadata": {},
     "output_type": "execute_result"
    }
   ],
   "source": [
    "np.shape(smalls[0:2])"
   ]
  },
  {
   "cell_type": "code",
   "execution_count": 16,
   "metadata": {},
   "outputs": [],
   "source": [
    "predict = knn_clf.predict(smalls[0:3])\n",
    "predict = predict.reshape(3 * 2048 * 1536)\n",
    "predict = predict.reshape(3, 2048, 1536).T\n",
    "pred_img = Image.fromarray(predict)\n",
    "\n",
    "pred_img.save('img/pre2.jpg')"
   ]
  },
  {
   "cell_type": "code",
   "execution_count": 1,
   "metadata": {},
   "outputs": [],
   "source": [
    "from PIL import Image\n",
    "import numpy as np\n",
    "\n",
    "larges = np.array([])\n",
    "smalls = np.array([])\n",
    "imgs = [\"000\", \"001\", \"002\", \"003\", \"004\", \"005\"]\n",
    "\n",
    "larges = [np.array(Image.open(\"img/\" + img + \"_l.jpg\")).T for img in imgs]\n",
    "smalls = [np.array(Image.open(\"img/\" + img + \"_sl.jpg\")).T for img in imgs]"
   ]
  },
  {
   "cell_type": "code",
   "execution_count": 2,
   "metadata": {},
   "outputs": [],
   "source": [
    "tmp = []\n",
    "for i in range(6):\n",
    "    for j in range(3):\n",
    "        for k in range(2048):\n",
    "            tmp.append(larges[i][j][k])\n",
    "larges = tmp\n",
    "\n",
    "tmp = []\n",
    "for i in range(6):\n",
    "    for j in range(3):\n",
    "        for k in range(2048):\n",
    "            tmp.append(smalls[i][j][k])\n",
    "smalls = tmp"
   ]
  },
  {
   "cell_type": "code",
   "execution_count": 5,
   "metadata": {},
   "outputs": [
    {
     "data": {
      "text/plain": [
       "(36864, 1536)"
      ]
     },
     "execution_count": 5,
     "metadata": {},
     "output_type": "execute_result"
    }
   ],
   "source": [
    "np.shape(smalls)"
   ]
  },
  {
   "cell_type": "code",
   "execution_count": 6,
   "metadata": {},
   "outputs": [],
   "source": [
    "from tensorflow.keras.models import Sequential\n",
    "from tensorflow.keras.layers import Dense, Conv1D, Flatten\n",
    "import tensorflow as tf\n",
    "with tf.device('/cpu:0'):\n",
    "    model = Sequential()\n",
    "    model.add(Conv1D(32, 3, activation='relu',input_shape=(36864, 1536)))\n",
    "    model.add(Dense(16,activation='relu'))\n",
    "    model.add(Dense(1536))\n",
    "    model.compile(loss=\"mse\", optimizer=\"adam\")"
   ]
  },
  {
   "cell_type": "code",
   "execution_count": null,
   "metadata": {},
   "outputs": [],
   "source": [
    "with tf.device('/cpu:0'):\n",
    "    model.fit(smalls, larges, epochs=3)"
   ]
  },
  {
   "cell_type": "code",
   "execution_count": null,
   "metadata": {},
   "outputs": [],
   "source": []
  }
 ],
 "metadata": {
  "kernelspec": {
   "display_name": "Python 3",
   "language": "python",
   "name": "python3"
  },
  "language_info": {
   "codemirror_mode": {
    "name": "ipython",
    "version": 3
   },
   "file_extension": ".py",
   "mimetype": "text/x-python",
   "name": "python",
   "nbconvert_exporter": "python",
   "pygments_lexer": "ipython3",
   "version": "3.8.5"
  }
 },
 "nbformat": 4,
 "nbformat_minor": 4
}
