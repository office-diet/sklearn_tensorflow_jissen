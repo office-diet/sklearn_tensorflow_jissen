{
 "cells": [
  {
   "cell_type": "code",
   "execution_count": 14,
   "metadata": {},
   "outputs": [],
   "source": [
    "from sklearn.datasets import fetch_openml\n",
    "mnist_X, mnist_y = fetch_openml('mnist_784', version=1, data_home=\".\", return_X_y=True)\n",
    "mnist_X\n",
    "\n",
    "mnist = fetch_openml('mnist_784', version=1, data_home=\".\", return_X_y=False)\n",
    "mnist\n",
    "\n",
    "x, y = mnist[\"data\"], mnist[\"target\"]"
   ]
  },
  {
   "cell_type": "code",
   "execution_count": null,
   "metadata": {},
   "outputs": [],
   "source": [
    "# ■■■■■■■■■■■■■■■■■■■■■■■■■\n",
    "# コード例\n",
    "# ■■■■■■■■■■■■■■■■■■■■■■■■■\n",
    "x_centered = x - x.mean(axis=0)\n",
    "u, s, vt = np.linalg.svd(x_centered)\n",
    "c1 = vt.T[:, 0]\n",
    "c2 = vt.T[:, 1]\n",
    "w2 = vt.t[:, :2]\n",
    "x2d = x_centered.dot(w2)"
   ]
  },
  {
   "cell_type": "code",
   "execution_count": null,
   "metadata": {},
   "outputs": [],
   "source": [
    "# ■■■■■■■■■■■■■■■■■■■■■■■■■\n",
    "# コード例\n",
    "# ■■■■■■■■■■■■■■■■■■■■■■■■■\n",
    "\n",
    "from sklearn.decomposition import PCA\n",
    "pca = PCA(n_componets=2)\n",
    "x2d = pca.fit_trainsform(x)\n",
    "\n",
    "# 寄与率の表示\n",
    "pca.explained_variance_ratio_\n",
    "cumsum = np.cumsum(pca.exlained_variance_ration_)\n",
    "d = np.argmax(cumsum >= 0.95) + 1"
   ]
  },
  {
   "cell_type": "code",
   "execution_count": null,
   "metadata": {},
   "outputs": [],
   "source": [
    "# ■■■■■■■■■■■■■■■■■■■■■■■■■\n",
    "# コード例\n",
    "# ■■■■■■■■■■■■■■■■■■■■■■■■■\n",
    "\n",
    "pca = PCA(n_componets=0.95)\n",
    "pca.fit(x_train)"
   ]
  },
  {
   "cell_type": "code",
   "execution_count": 15,
   "metadata": {},
   "outputs": [],
   "source": [
    "from sklearn.model_selection import train_test_split\n",
    "\n",
    "x_train, x_test, y_train, y_test = train_test_split(x, y, test_size=0.2)\n",
    "\n",
    "from sklearn.decomposition import PCA\n",
    "pca = PCA(n_components=154)\n",
    "x_reduced = pca.fit_transform(x_train)\n",
    "x_recovered = pca.inverse_transform(x_reduced)"
   ]
  },
  {
   "cell_type": "code",
   "execution_count": 17,
   "metadata": {},
   "outputs": [
    {
     "name": "stdout",
     "output_type": "stream",
     "text": [
      "(56000, 154)\n",
      "(56000, 784)\n"
     ]
    }
   ],
   "source": [
    "print(x_reduced.shape)\n",
    "print(x_recovered.shape)"
   ]
  },
  {
   "cell_type": "code",
   "execution_count": 20,
   "metadata": {},
   "outputs": [],
   "source": [
    "from sklearn.decomposition import IncrementalPCA\n",
    "\n",
    "n_batches = 100\n",
    "inc_pca = IncrementalPCA(n_components=154)\n",
    "for x_batch in np.array_split(x_train, n_batches):\n",
    "    inc_pca.partial_fit(x_batch)\n",
    "    \n",
    "x_reduced = inc_pca.transform(x_train)"
   ]
  },
  {
   "cell_type": "code",
   "execution_count": 21,
   "metadata": {},
   "outputs": [
    {
     "data": {
      "text/plain": [
       "(56000, 154)"
      ]
     },
     "execution_count": 21,
     "metadata": {},
     "output_type": "execute_result"
    }
   ],
   "source": [
    "x_reduced.shape"
   ]
  },
  {
   "cell_type": "code",
   "execution_count": 28,
   "metadata": {},
   "outputs": [
    {
     "data": {
      "text/plain": [
       "<matplotlib.image.AxesImage at 0x23c32f65850>"
      ]
     },
     "execution_count": 28,
     "metadata": {},
     "output_type": "execute_result"
    },
    {
     "data": {
      "image/png": "[encoded data removed]",
      "text/plain": [
       "<Figure size 432x288 with 1 Axes>"
      ]
     },
     "metadata": {
      "needs_background": "light"
     },
     "output_type": "display_data"
    }
   ],
   "source": [
    "import matplotlib.pyplot as plt\n",
    "plt.imshow(x_recovered[0].reshape(28, 28), cmap=\"gray\")"
   ]
  },
  {
   "cell_type": "code",
   "execution_count": null,
   "metadata": {},
   "outputs": [],
   "source": [
    "x_mm = np.memmap(filename, dtype=\"float32\", mode=\"readonly\", shape=(m, n))\n",
    "batch_size = m // n_batches\n",
    "inc_pca = IncrementalPCA(n_components=154, svd_solver=\"randomized\")\n",
    "inc_pca.fit(x_mm)"
   ]
  },
  {
   "cell_type": "code",
   "execution_count": null,
   "metadata": {},
   "outputs": [],
   "source": [
    "from sklearn.decomposition import KernelPCA\n",
    "\n",
    "rbf_pca = KernelPCA(n_components=2, kernel=\"rbf\", gamma=0.04)\n",
    "x_reduced = rbf_pca.fit_transform(x)"
   ]
  },
  {
   "cell_type": "code",
   "execution_count": null,
   "metadata": {},
   "outputs": [],
   "source": [
    "from sklearn.model_selection import GridSearchCV\n",
    "from sklearn.linear_model import LogisticRegression\n",
    "from sklearn.pipeline import Pipeline\n",
    "\n",
    "clf = Pipeline(\n",
    "    (\"kpca\", KernelPCA(n_components=2)),\n",
    "    (\"log_reg\", LogisticRegression())\n",
    ")\n",
    "param_grid =[{\n",
    "    \"kpca__gamma\" : np.linespace(0.03, 0.05, 10),\n",
    "    \"kpca__kernel\" : [\"rbf\", \"sigmoid\"]\n",
    "}]\n",
    "grid.search = GridSearchCV(clf, param_grid, cv=3)\n",
    "grid_search.fit(x, y)\n",
    "print(grid_search.best_params_)"
   ]
  },
  {
   "cell_type": "code",
   "execution_count": null,
   "metadata": {},
   "outputs": [],
   "source": [
    "rbf_pca = KernelPCA(n_components=2, kernel=\"rbf\", gamma=0.0433, fit_inverse_transform=True)\n",
    "x_reduced = rbf_pca.fit_transform(x)\n",
    "x_preimage = rbf_pca.inverse_transform(x_reduced)\n",
    "\n",
    "from sklearn.metrics import mean_squared_error\n",
    "mean_squared_error(x, x_preimage)"
   ]
  },
  {
   "cell_type": "code",
   "execution_count": null,
   "metadata": {},
   "outputs": [],
   "source": [
    "from sklearn.maifold import LocallyLinearEmbedding\n",
    "lle = LocallyLinearEmbedding(n_components=2, n_neighbors=10)\n",
    "x_reduced = lle.fit_transform(x)"
   ]
  }
 ],
 "metadata": {
  "kernelspec": {
   "display_name": "Python 3",
   "language": "python",
   "name": "python3"
  },
  "language_info": {
   "codemirror_mode": {
    "name": "ipython",
    "version": 3
   },
   "file_extension": ".py",
   "mimetype": "text/x-python",
   "name": "python",
   "nbconvert_exporter": "python",
   "pygments_lexer": "ipython3",
   "version": "3.8.5"
  }
 },
 "nbformat": 4,
 "nbformat_minor": 4
}
